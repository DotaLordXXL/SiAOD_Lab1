{
 "cells": [
  {
   "cell_type": "markdown",
   "metadata": {},
   "source": [
    "# Лабораторная работа №1\n",
    "## Выполнил студент группы БСТ1904 Сошников СВ\n",
    "### Задание №1\n",
    "Вывод оглавление и выполнение print(“Hello, World!”)"
   ]
  },
  {
   "cell_type": "code",
   "execution_count": 1,
   "metadata": {},
   "outputs": [
    {
     "name": "stdout",
     "output_type": "stream",
     "text": [
      "Hello, World!\n"
     ]
    }
   ],
   "source": [
    "print(\"Hello, World!\")"
   ]
  },
  {
   "cell_type": "markdown",
   "metadata": {},
   "source": [
    "### Задание №2\n",
    "Написать генератор случайных матриц(многомерных), который принимает\n",
    "опциональные параметры m, n, min_limit, max_limit, где m и n указывают размер\n",
    "матрицы, а min_lim и max_lim - минимальное и максимальное значение для\n",
    "генерируемого числа . По умолчанию при отсутствии параметров принимать следующие\n",
    "значения:\n",
    "m = 50\n",
    "n = 50\n",
    "min_limit = -250\n",
    "max_limit = 1000 + (номер своего варианта)"
   ]
  },
  {
   "cell_type": "code",
   "execution_count": 2,
   "metadata": {},
   "outputs": [
    {
     "name": "stdout",
     "output_type": "stream",
     "text": [
      "Введите количество строк m 3\n",
      "Введите число столбцов n 3\n",
      "Введите минимальное число min_lim -10\n",
      "Введите максимальное число max_lim 61\n",
      "Ваш массив: \n",
      "[[36. 49. 47.]\n",
      " [36. -8. -6.]\n",
      " [ 0.  9.  5.]]\n"
     ]
    }
   ],
   "source": [
    "import numpy as np\n",
    "import time\n",
    "import random\n",
    "try:\n",
    "    m = int(input(\"Введите количество строк m \"))\n",
    "except ValueError:\n",
    "    m = 50\n",
    "try:\n",
    "    n = int(input(\"Введите число столбцов n \"))\n",
    "except ValueError:\n",
    "    n = 50\n",
    "try:\n",
    "    min_lim = int(input(\"Введите минимальное число min_lim \"))\n",
    "except ValueError:\n",
    "    min_lim  = -250\n",
    "try:\n",
    "    max_lim = int(input(\"Введите максимальное число max_lim \"))\n",
    "except ValueError:\n",
    "    max_lim = 1018\n",
    "A = np.empty((m, n))\n",
    "for i in range(m):\n",
    "    for j in range(n):\n",
    "        A[i, j] = random.randint(min_lim, max_lim)\n",
    "print(\"Ваш массив: \")\n",
    "print(A)"
   ]
  },
  {
   "cell_type": "markdown",
   "metadata": {},
   "source": [
    "## Задание №3\n",
    "Реализовать методы сортировки строк числовой матрицы в соответствии с\n",
    "заданием. Оценить время работы каждого алгоритма сортировки и сравнить его со\n",
    "временем стандартной функции сортировки. Испытания проводить на сгенерированных\n",
    "матрицах."
   ]
  },
  {
   "cell_type": "code",
   "execution_count": 3,
   "metadata": {},
   "outputs": [
    {
     "name": "stdout",
     "output_type": "stream",
     "text": [
      "[[-8. -6.  0.]\n",
      " [ 5.  9. 36.]\n",
      " [36. 47. 49.]]\n",
      "Wall time: 8.01 ms\n"
     ]
    }
   ],
   "source": [
    "%%time\n",
    "def Vibor(Arr): \n",
    "    for i in range(0, len(Arr) - 1): \n",
    "        for j in range(i + 1, len(Arr)): \n",
    "            if Arr[j] < Arr[i]: \n",
    "                Arr[i], Arr[j] = Arr[j], Arr[i]\n",
    "\n",
    "import numpy as np\n",
    "B = np.empty(m*n)\n",
    "C = np.empty((m, n))\n",
    "z = 0\n",
    "for x in range(m):\n",
    "    for y in range(n):\n",
    "        B[z] = A[x, y]\n",
    "        z = z + 1\n",
    "Vibor(B)\n",
    "z = 0\n",
    "for x in range(m):\n",
    "    for y in range(n):\n",
    "        C[x, y] = B[z]\n",
    "        z = z + 1\n",
    "print(C)"
   ]
  },
  {
   "cell_type": "code",
   "execution_count": 4,
   "metadata": {},
   "outputs": [
    {
     "name": "stdout",
     "output_type": "stream",
     "text": [
      "[[-8. -6.  0.]\n",
      " [ 5.  9. 36.]\n",
      " [36. 47. 49.]]\n",
      "Wall time: 2 ms\n"
     ]
    }
   ],
   "source": [
    "%%time\n",
    "import numpy as np\n",
    "B = np.empty(m*n)\n",
    "C = np.empty((m, n))\n",
    "z = 0\n",
    "for x in range(m):\n",
    "    for y in range(n):\n",
    "        B[z] = A[x, y]\n",
    "        z = z + 1\n",
    "B.sort()\n",
    "z = 0\n",
    "for x in range(m):\n",
    "    for y in range(n):\n",
    "        C[x, y] = B[z]\n",
    "        z = z + 1\n",
    "print(C)"
   ]
  },
  {
   "cell_type": "code",
   "execution_count": null,
   "metadata": {},
   "outputs": [],
   "source": []
  }
 ],
 "metadata": {
  "kernelspec": {
   "display_name": "Python 3",
   "language": "python",
   "name": "python3"
  },
  "language_info": {
   "codemirror_mode": {
    "name": "ipython",
    "version": 3
   },
   "file_extension": ".py",
   "mimetype": "text/x-python",
   "name": "python",
   "nbconvert_exporter": "python",
   "pygments_lexer": "ipython3",
   "version": "3.8.5"
  }
 },
 "nbformat": 4,
 "nbformat_minor": 4
}
